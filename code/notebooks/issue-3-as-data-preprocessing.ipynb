{
 "cells": [
  {
   "cell_type": "code",
   "execution_count": 2,
   "metadata": {},
   "outputs": [],
   "source": [
    "import pandas as pd\n",
    "from src.nlp_functions import nlp_preprocessing\n",
    "pd.set_option('max.colwidth',None)"
   ]
  },
  {
   "cell_type": "code",
   "execution_count": 3,
   "metadata": {},
   "outputs": [],
   "source": [
    "df = pd.read_csv(r'..\\..\\data\\processed\\spam_dataset.csv')"
   ]
  },
  {
   "cell_type": "code",
   "execution_count": 4,
   "metadata": {},
   "outputs": [
    {
     "data": {
      "text/html": [
       "<div>\n",
       "<style scoped>\n",
       "    .dataframe tbody tr th:only-of-type {\n",
       "        vertical-align: middle;\n",
       "    }\n",
       "\n",
       "    .dataframe tbody tr th {\n",
       "        vertical-align: top;\n",
       "    }\n",
       "\n",
       "    .dataframe thead th {\n",
       "        text-align: right;\n",
       "    }\n",
       "</style>\n",
       "<table border=\"1\" class=\"dataframe\">\n",
       "  <thead>\n",
       "    <tr style=\"text-align: right;\">\n",
       "      <th></th>\n",
       "      <th>category</th>\n",
       "      <th>message</th>\n",
       "    </tr>\n",
       "  </thead>\n",
       "  <tbody>\n",
       "    <tr>\n",
       "      <th>0</th>\n",
       "      <td>0</td>\n",
       "      <td>Go until jurong point, crazy.. Available only in bugis n great world la e buffet... Cine there got amore wat...</td>\n",
       "    </tr>\n",
       "    <tr>\n",
       "      <th>1</th>\n",
       "      <td>0</td>\n",
       "      <td>Ok lar... Joking wif u oni...</td>\n",
       "    </tr>\n",
       "    <tr>\n",
       "      <th>2</th>\n",
       "      <td>1</td>\n",
       "      <td>Free entry in 2 a wkly comp to win FA Cup final tkts 21st May 2005. Text FA to 87121 to receive entry question(std txt rate)T&amp;C's apply 08452810075over18's</td>\n",
       "    </tr>\n",
       "    <tr>\n",
       "      <th>3</th>\n",
       "      <td>0</td>\n",
       "      <td>U dun say so early hor... U c already then say...</td>\n",
       "    </tr>\n",
       "    <tr>\n",
       "      <th>4</th>\n",
       "      <td>0</td>\n",
       "      <td>Nah I don't think he goes to usf, he lives around here though</td>\n",
       "    </tr>\n",
       "  </tbody>\n",
       "</table>\n",
       "</div>"
      ],
      "text/plain": [
       "   category  \\\n",
       "0         0   \n",
       "1         0   \n",
       "2         1   \n",
       "3         0   \n",
       "4         0   \n",
       "\n",
       "                                                                                                                                                       message  \n",
       "0                                              Go until jurong point, crazy.. Available only in bugis n great world la e buffet... Cine there got amore wat...  \n",
       "1                                                                                                                                Ok lar... Joking wif u oni...  \n",
       "2  Free entry in 2 a wkly comp to win FA Cup final tkts 21st May 2005. Text FA to 87121 to receive entry question(std txt rate)T&C's apply 08452810075over18's  \n",
       "3                                                                                                            U dun say so early hor... U c already then say...  \n",
       "4                                                                                                Nah I don't think he goes to usf, he lives around here though  "
      ]
     },
     "execution_count": 4,
     "metadata": {},
     "output_type": "execute_result"
    }
   ],
   "source": [
    "df.head()"
   ]
  },
  {
   "cell_type": "code",
   "execution_count": 6,
   "metadata": {},
   "outputs": [],
   "source": [
    "df['cleaned_message'] = df['message'].apply(nlp_preprocessing)"
   ]
  },
  {
   "cell_type": "code",
   "execution_count": 10,
   "metadata": {},
   "outputs": [
    {
     "data": {
      "text/html": [
       "<div>\n",
       "<style scoped>\n",
       "    .dataframe tbody tr th:only-of-type {\n",
       "        vertical-align: middle;\n",
       "    }\n",
       "\n",
       "    .dataframe tbody tr th {\n",
       "        vertical-align: top;\n",
       "    }\n",
       "\n",
       "    .dataframe thead th {\n",
       "        text-align: right;\n",
       "    }\n",
       "</style>\n",
       "<table border=\"1\" class=\"dataframe\">\n",
       "  <thead>\n",
       "    <tr style=\"text-align: right;\">\n",
       "      <th></th>\n",
       "      <th>message</th>\n",
       "      <th>cleaned_message</th>\n",
       "    </tr>\n",
       "  </thead>\n",
       "  <tbody>\n",
       "    <tr>\n",
       "      <th>40690</th>\n",
       "      <td>\\tMm you ask him to come its enough :-)</td>\n",
       "      <td>mm ask come enough</td>\n",
       "    </tr>\n",
       "    <tr>\n",
       "      <th>32915</th>\n",
       "      <td>Subject: re : american express charges  hi samer !  hope you had an enjoyable thanksgiving !  i found out the \" scoop \" on the ticket . it was non - refundable and non -  refundable tickets cannot be transferred . it was just your seat that  maureen ' s husband used .  i will send in a check request for reimbursement in the amount of $ 330 . 50 .  the best thing would be for you to go ahead and pay the bill or wait for  the check from us .  sorry for the confusion !  cheers !  shirley  \" samer takriti \" on 11 / 20 / 2000 01 : 41 : 23 pm  to : shirley . crenshaw @ enron . com  cc : stinson . gibner @ enron . com  subject : american express charges  shirley ,  how are you ? things are fine over here . we are still trying to settle in ;  this process seems to be taking forever .  i would like to ask for your help . i have received a statement from  american express related to my enron account . the charge amount is $ 330 . 50 ,  which is supposed to be for an airplane ticket . after calling the travel  agency in the park , i found out that this was the ticket that i was  supposed to have used to fly to colorado . however , the ticket was used by  maurine ' s husband and maurine claimed to have paid for the ticket . also , i  remember calling the tap and cancelling prior to the travel date . can you  help me figure out what is going on here ? i am not sure who is supposed to  pay for this . i disputed the charge before but my dispute was rejected .  i appreciate your help . thanks .  - samer</td>\n",
       "      <td>subject american express charge hi same hope enjoyable thanksgiving find scoop ticket non refundable non refundable ticket transfer seat maureen husband use send check request reimbursement amount best thing would go ahead pay bill wait check u sorry confusion cheer shirley same takriti pm shirley crenshaw enron com cc stinson gibner enron com subject american express charge shirley thing fine still try settle process seem take forever would like ask help receive statement american express relate enron account charge amount suppose airplane ticket call travel agency park find ticket suppose use fly colorado however ticket use maurine husband maurine claim pay ticket also remember call tap cancel prior travel date help figure go sure suppose pay dispute charge dispute reject appreciate help thanks samer</td>\n",
       "    </tr>\n",
       "  </tbody>\n",
       "</table>\n",
       "</div>"
      ],
      "text/plain": [
       "                                                                                                                                                                                                                                                                                                                                                                                                                                                                                                                                                                                                                                                                                                                                                                                                                                                                                                                                                                                                                                                                                                                                                                                                                                                                                                                                                                                                                                                                                                                                                                        message  \\\n",
       "40690                                                                                                                                                                                                                                                                                                                                                                                                                                                                                                                                                                                                                                                                                                                                                                                                                                                                                                                                                                                                                                                                                                                                                                                                                                                                                                                                                                                                                                                                                                                                   \\tMm you ask him to come its enough :-)   \n",
       "32915  Subject: re : american express charges  hi samer !  hope you had an enjoyable thanksgiving !  i found out the \" scoop \" on the ticket . it was non - refundable and non -  refundable tickets cannot be transferred . it was just your seat that  maureen ' s husband used .  i will send in a check request for reimbursement in the amount of $ 330 . 50 .  the best thing would be for you to go ahead and pay the bill or wait for  the check from us .  sorry for the confusion !  cheers !  shirley  \" samer takriti \" on 11 / 20 / 2000 01 : 41 : 23 pm  to : shirley . crenshaw @ enron . com  cc : stinson . gibner @ enron . com  subject : american express charges  shirley ,  how are you ? things are fine over here . we are still trying to settle in ;  this process seems to be taking forever .  i would like to ask for your help . i have received a statement from  american express related to my enron account . the charge amount is $ 330 . 50 ,  which is supposed to be for an airplane ticket . after calling the travel  agency in the park , i found out that this was the ticket that i was  supposed to have used to fly to colorado . however , the ticket was used by  maurine ' s husband and maurine claimed to have paid for the ticket . also , i  remember calling the tap and cancelling prior to the travel date . can you  help me figure out what is going on here ? i am not sure who is supposed to  pay for this . i disputed the charge before but my dispute was rejected .  i appreciate your help . thanks .  - samer   \n",
       "\n",
       "                                                                                                                                                                                                                                                                                                                                                                                                                                                                                                                                                                                                                                                                                                                                                                                                                                     cleaned_message  \n",
       "40690                                                                                                                                                                                                                                                                                                                                                                                                                                                                                                                                                                                                                                                                                                                                                                                                                             mm ask come enough  \n",
       "32915  subject american express charge hi same hope enjoyable thanksgiving find scoop ticket non refundable non refundable ticket transfer seat maureen husband use send check request reimbursement amount best thing would go ahead pay bill wait check u sorry confusion cheer shirley same takriti pm shirley crenshaw enron com cc stinson gibner enron com subject american express charge shirley thing fine still try settle process seem take forever would like ask help receive statement american express relate enron account charge amount suppose airplane ticket call travel agency park find ticket suppose use fly colorado however ticket use maurine husband maurine claim pay ticket also remember call tap cancel prior travel date help figure go sure suppose pay dispute charge dispute reject appreciate help thanks samer  "
      ]
     },
     "execution_count": 10,
     "metadata": {},
     "output_type": "execute_result"
    }
   ],
   "source": [
    "df[['message', 'cleaned_message']].sample(2)"
   ]
  },
  {
   "cell_type": "markdown",
   "metadata": {},
   "source": [
    "[Previous Notebook](https://github.com/Asifdotexe/SpamDetection/blob/main/code/notebooks/issue-1-as-dataset-creation.ipynb)"
   ]
  }
 ],
 "metadata": {
  "kernelspec": {
   "display_name": "venv",
   "language": "python",
   "name": "python3"
  },
  "language_info": {
   "codemirror_mode": {
    "name": "ipython",
    "version": 3
   },
   "file_extension": ".py",
   "mimetype": "text/x-python",
   "name": "python",
   "nbconvert_exporter": "python",
   "pygments_lexer": "ipython3",
   "version": "3.11.3"
  }
 },
 "nbformat": 4,
 "nbformat_minor": 2
}
