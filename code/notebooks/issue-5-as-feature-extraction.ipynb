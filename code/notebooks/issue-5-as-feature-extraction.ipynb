{
 "cells": [
  {
   "cell_type": "markdown",
   "metadata": {},
   "source": [
    "<table style=\"width:100%; border-collapse: collapse; border: none;\">\n",
    "  <tr>\n",
    "    <td style=\"text-align:left; border: none;\"><a href=\"https://github.com/Asifdotexe/SpamDetection/blob/main/code/notebooks/issue-3-as-data-preprocessing.ipynb\">Previous Notebook</a></td>\n",
    "    <!-- <td style=\"text-align:right; border: none;\"><a href=\"https://github.com/Asifdotexe/SpamDetection/blob/main/code/notebooks/issue-5-as-feature-extraction.ipynb\">Next Notebook</a></td> -->\n",
    "  </tr>\n",
    "</table>"
   ]
  }
 ],
 "metadata": {
  "language_info": {
   "name": "python"
  }
 },
 "nbformat": 4,
 "nbformat_minor": 2
}
